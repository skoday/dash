{
 "cells": [
  {
   "cell_type": "markdown",
   "id": "678b0096",
   "metadata": {},
   "source": [
    "# Notebook para unificar archivos CSV"
   ]
  },
  {
   "cell_type": "markdown",
   "id": "0e9b26e3",
   "metadata": {},
   "source": [
    "En un caso ideal solo haría falta modificar el directorio y el nombre de salida del archivo y se ejecuta."
   ]
  },
  {
   "cell_type": "code",
   "execution_count": 42,
   "id": "30f0b8ab-253f-4850-a838-02e4e2ee6c07",
   "metadata": {},
   "outputs": [],
   "source": [
    "import pandas as pd"
   ]
  },
  {
   "cell_type": "markdown",
   "id": "2fc7d3ec",
   "metadata": {},
   "source": [
    "Para indicar que archivos mezclar se debe indicar el directorio donde se encuentran los csv y el nombre del archivo de salida"
   ]
  },
  {
   "cell_type": "code",
   "execution_count": null,
   "id": "b8bdb16d-87fc-4d3e-b317-fdc628305296",
   "metadata": {},
   "outputs": [],
   "source": [
    "\"\"\"\n",
    "Modificar las siguientes variables para el script\n",
    "directorio: es el la ruta al directorio/folder donde se encuentran los csv para ser concatenados.\n",
    "            Si es un solo archivo solo le pondra headers.\n",
    "OUTPUT_FILE_NAME: Es el nombre del archivo resultante.\n",
    "\"\"\"\n",
    "directorio = \"31 de marzo 2025\\\\datos\"\n",
    "OUTPUT_FILE_NAME = '31 de marzo 2025\\\\merged.csv'"
   ]
  },
  {
   "cell_type": "markdown",
   "id": "1491f7bd",
   "metadata": {},
   "source": [
    "En la siguiente celda se definen las columnas que tendran como header el csv."
   ]
  },
  {
   "cell_type": "code",
   "execution_count": 55,
   "id": "a8806f1f-5c2d-4e8c-bbf0-9024fdfd5ec2",
   "metadata": {},
   "outputs": [],
   "source": [
    "columnas = [\n",
    "    \"Timestamp\", \"Unix Time\", \"RTC Temp\", \"GPS UTC Time\", \"GPS Date\", \"GPS_Latitude\",\n",
    "    \"GPS_Longitude\", \"GPS Altitude\", \"GPS Satellites\", \"GPS HDOP\", \"GPS Speed (Knots)\",\n",
    "    \"GPS Speed (Km/h)\", \"GPS Track Degrees\", \"CycleID\", \"Hash\", \"SPS30 mc 1.0\", \"SPS30 mc 2.5\",\n",
    "    \"SPS30 mc 4.0\", \"SPS30 mc 10.0\", \"SPS30 nc 0.5\", \"SPS30 nc 1.0\", \"SPS30 nc 2.5\",\n",
    "    \"SPS30 nc 4.0\", \"SPS30 nc 10.0\", \"SPS30 Particle Size\", \"AHT20 Temperature\", \"AHT20 Humidity\",\n",
    "    \"BMP280 Temperature\", \"BMP280 Pressure\",\"BMP280 Altitude\", \"Unknown\"\n",
    "]\n"
   ]
  },
  {
   "cell_type": "markdown",
   "id": "71df292b-dfbb-4315-a403-8fe832916220",
   "metadata": {},
   "source": [
    "La sigueinte celda concatena los archivos dentro del directorio especificado. Si en un archivo csv hay más columnas que en otro, por ejemplo uno tiene 30 columnas y otro 31, se mezclaran sin ningun problema"
   ]
  },
  {
   "cell_type": "code",
   "execution_count": null,
   "id": "5a9600cc-ce78-482a-9f7c-63b6757e968b",
   "metadata": {},
   "outputs": [
    {
     "name": "stdout",
     "output_type": "stream",
     "text": [
      "31 de marzo 2025\\datos\\data_gps_2025327.csv\n",
      "31 de marzo 2025\\datos\\data_gps_2025328.csv\n",
      "31 de marzo 2025\\datos\\data_gps_2025329.csv\n",
      "31 de marzo 2025\\datos\\data_gps_2025331.csv\n"
     ]
    }
   ],
   "source": [
    "dataframes = {}\n",
    "\n",
    "for archivo in os.listdir(directorio):\n",
    "    if archivo.endswith(\".csv\"):\n",
    "        ruta_completa = os.path.join(directorio, archivo)\n",
    "        print(ruta_completa)\n",
    "        df = pd.read_csv(ruta_completa, header=None, names=columnas, index_col=False, engine='python', encoding='latin1', sep=\",\")\n",
    "        dataframes[archivo] = df\n",
    "\n",
    "df_concatenado = pd.concat(dataframes, ignore_index=True)\n",
    "df_concatenado.to_csv(OUTPUT_FILE_NAME, index=False)"
   ]
  }
 ],
 "metadata": {
  "kernelspec": {
   "display_name": ".venv",
   "language": "python",
   "name": "python3"
  },
  "language_info": {
   "codemirror_mode": {
    "name": "ipython",
    "version": 3
   },
   "file_extension": ".py",
   "mimetype": "text/x-python",
   "name": "python",
   "nbconvert_exporter": "python",
   "pygments_lexer": "ipython3",
   "version": "3.12.7"
  }
 },
 "nbformat": 4,
 "nbformat_minor": 5
}
