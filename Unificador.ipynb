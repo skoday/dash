{
 "cells": [
  {
   "cell_type": "markdown",
   "id": "678b0096",
   "metadata": {},
   "source": [
    "# Notebook para unificar archivos CSV"
   ]
  },
  {
   "cell_type": "markdown",
   "id": "0e9b26e3",
   "metadata": {},
   "source": [
    "En un caso ideal solo haría falta modificar el directorio y el nombre de salida del archivo y se ejecuta."
   ]
  },
  {
   "cell_type": "code",
   "execution_count": 1,
   "id": "30f0b8ab-253f-4850-a838-02e4e2ee6c07",
   "metadata": {},
   "outputs": [],
   "source": [
    "import pandas as pd\n",
    "import os"
   ]
  },
  {
   "cell_type": "markdown",
   "id": "2fc7d3ec",
   "metadata": {},
   "source": [
    "Para indicar que archivos mezclar se debe indicar el directorio donde se encuentran los csv y el nombre del archivo de salida"
   ]
  },
  {
   "cell_type": "code",
   "execution_count": 20,
   "id": "b8bdb16d-87fc-4d3e-b317-fdc628305296",
   "metadata": {},
   "outputs": [],
   "source": [
    "\"\"\"\n",
    "Modificar las siguientes variables para el script\n",
    "directorio: es el la ruta al directorio/folder donde se encuentran los csv para ser concatenados.\n",
    "            Si es un solo archivo solo le pondra headers.\n",
    "OUTPUT_FILE_NAME: Es el nombre del archivo resultante.\n",
    "\"\"\"\n",
    "DIRECTORIO = \"24 de febrero 2025/datos\"\n",
    "OUTPUT_FILE_NAME = 'merged.csv'"
   ]
  },
  {
   "cell_type": "markdown",
   "id": "1491f7bd",
   "metadata": {},
   "source": [
    "En la siguiente celda se definen las columnas que tendran como header el csv."
   ]
  },
  {
   "cell_type": "code",
   "execution_count": 3,
   "id": "a8806f1f-5c2d-4e8c-bbf0-9024fdfd5ec2",
   "metadata": {},
   "outputs": [],
   "source": [
    "columnas_completas = [\n",
    "    \"Timestamp\", \"Unix Time\", \"RTC Temp\", \"GPS UTC Time\", \"GPS Date\", \"GPS_Latitude\",\n",
    "    \"GPS_Longitude\", \"GPS Altitude\", \"GPS Satellites\", \"GPS HDOP\", \"GPS Speed (Knots)\",\n",
    "    \"GPS Speed (Km/h)\", \"GPS Track Degrees\", \"CycleID\", \"Hash\", \"SPS30 mc 1.0\", \"SPS30 mc 2.5\",\n",
    "    \"SPS30 mc 4.0\", \"SPS30 mc 10.0\", \"SPS30 nc 0.5\", \"SPS30 nc 1.0\", \"SPS30 nc 2.5\",\n",
    "    \"SPS30 nc 4.0\", \"SPS30 nc 10.0\", \"SPS30 Particle Size\", \"AHT20 Temperature\", \"AHT20 Humidity\",\n",
    "    \"BMP280 Temperature\", \"BMP280 Pressure\",\"BMP280 Altitude\", \"co_level\"\n",
    "]\n"
   ]
  },
  {
   "cell_type": "markdown",
   "id": "71df292b-dfbb-4315-a403-8fe832916220",
   "metadata": {},
   "source": [
    "La sigueinte celda concatena los archivos dentro del directorio especificado. Si en un archivo csv hay más columnas que en otro, por ejemplo uno tiene 30 columnas y otro 31, se mezclaran sin ningun problema"
   ]
  },
  {
   "cell_type": "code",
   "execution_count": 25,
   "id": "5a9600cc-ce78-482a-9f7c-63b6757e968b",
   "metadata": {},
   "outputs": [],
   "source": [
    "def merge_csv(directorio, OUTPUT_FILE_NAME, columnas_completas):\n",
    "    import csv\n",
    "    \n",
    "    dataframes = []\n",
    "\n",
    "    for archivo in os.listdir(directorio):\n",
    "        if archivo.endswith(\".csv\"):\n",
    "            ruta_completa = os.path.join(directorio, archivo)\n",
    "            print(f\"Procesando: {ruta_completa}\")\n",
    "            \n",
    "            # Leemos el archivo línea por línea para manejar filas con diferente número de columnas\n",
    "            filas_procesadas = []\n",
    "            max_columnas = 0\n",
    "            \n",
    "            with open(ruta_completa, 'r', encoding='latin1') as file:\n",
    "                csv_reader = csv.reader(file)\n",
    "                for fila in csv_reader:\n",
    "                    # Actualizamos el máximo número de columnas encontrado\n",
    "                    max_columnas = max(max_columnas, len(fila))\n",
    "                    filas_procesadas.append(fila)\n",
    "            \n",
    "            print(f\"  - Máximo de columnas encontradas: {max_columnas}\")\n",
    "            \n",
    "            # Normalizamos todas las filas para que tengan el mismo número de columnas\n",
    "            filas_normalizadas = []\n",
    "            for fila in filas_procesadas:\n",
    "                # Si la fila tiene menos columnas, rellenamos con valores vacíos\n",
    "                while len(fila) < max_columnas:\n",
    "                    fila.append('')\n",
    "                filas_normalizadas.append(fila)\n",
    "            \n",
    "            # Creamos el dataframe con las filas normalizadas\n",
    "            columnas_a_usar = columnas_completas[:max_columnas]\n",
    "            df = pd.DataFrame(filas_normalizadas, columns=columnas_a_usar)\n",
    "            \n",
    "            # Reemplazamos strings vacíos con None para consistency\n",
    "            df = df.replace('', None)\n",
    "            \n",
    "            # Agregamos las columnas faltantes (si las hay) con valores nulos\n",
    "            for col in columnas_completas:\n",
    "                if col not in df.columns:\n",
    "                    df[col] = None\n",
    "            \n",
    "            # Reordenamos las columnas para que queden en el orden correcto\n",
    "            df = df[columnas_completas]\n",
    "            \n",
    "            dataframes.append(df)\n",
    "\n",
    "    # Concatenamos todos los dataframes\n",
    "    if dataframes:\n",
    "        df_concatenado = pd.concat(dataframes, ignore_index=True)\n",
    "        df_concatenado.to_csv(OUTPUT_FILE_NAME, index=False)\n",
    "        print(f\"\\nArchivo guardado: {OUTPUT_FILE_NAME}\")\n",
    "        print(f\"Filas totales: {len(df_concatenado)}\")\n",
    "    else:\n",
    "        print(\"No se encontraron archivos CSV para procesar\")\n"
   ]
  },
  {
   "cell_type": "code",
   "execution_count": 22,
   "id": "b46d74f5",
   "metadata": {},
   "outputs": [
    {
     "name": "stdout",
     "output_type": "stream",
     "text": [
      "Procesando: 24 de febrero 2025/datos/merged.csv\n",
      "  - Columnas encontradas: 30\n",
      "\n",
      "Archivo guardado: merged.csv\n",
      "Filas totales: 35455\n"
     ]
    }
   ],
   "source": [
    "merge_csv(DIRECTORIO, OUTPUT_FILE_NAME, columnas_completas)"
   ]
  }
 ],
 "metadata": {
  "kernelspec": {
   "display_name": ".venv",
   "language": "python",
   "name": "python3"
  },
  "language_info": {
   "codemirror_mode": {
    "name": "ipython",
    "version": 3
   },
   "file_extension": ".py",
   "mimetype": "text/x-python",
   "name": "python",
   "nbconvert_exporter": "python",
   "pygments_lexer": "ipython3",
   "version": "3.10.12"
  }
 },
 "nbformat": 4,
 "nbformat_minor": 5
}
